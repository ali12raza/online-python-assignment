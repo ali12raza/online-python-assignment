{
 "cells": [
  {
   "cell_type": "markdown",
   "id": "84979bcb",
   "metadata": {},
   "source": [
    "a=\"Twinkle,twinkle,little star,\";\n",
    "b=\"        How I wonder what you are|\";\n",
    "c=\"                Up above the world so high,\";                                                                                                              \n",
    "d=\"                Like a diamond in the sky. \";                                                                                             \n",
    "e=\"Twinkle,twinkle,little star,\";                                                                                                              \n",
    "f=\"        How I woder what you are|\";                                                                                                        \n",
    "print(a);\n",
    "print (b);\n",
    "print(c);\n",
    "print(d);\n",
    "print(e);\n",
    "print(f);\n",
    "\n"
   ]
  },
  {
   "cell_type": "code",
   "execution_count": 24,
   "id": "0f56c336",
   "metadata": {},
   "outputs": [
    {
     "name": "stdout",
     "output_type": "stream",
     "text": [
      "Date = 10:30 am\n",
      "Time = 01-01-2022\n"
     ]
    }
   ],
   "source": [
    "a=\"Twinkle,twinkle,little star,\";\n",
    "b=\"        How I wonder what you are|\";\n",
    "c=\"                Up above the world so high,\";                                                                                                              \n",
    "d=\"                Like a diamond in the sky. \";                                                                                             \n",
    "e=\"Twinkle,twinkle,little star,\";                                                                                                              \n",
    "f=\"        How I woder what you are|\";                                                                                                        \n",
    "print(a);\n",
    "print (b);\n",
    "print(c);\n",
    "print(d);\n",
    "print(e);\n",
    "print(f);"
   ]
  },
  {
   "cell_type": "code",
   "execution_count": 23,
   "id": "106e1bdc",
   "metadata": {},
   "outputs": [
    {
     "name": "stdout",
     "output_type": "stream",
     "text": [
      "python version 3\n"
     ]
    }
   ],
   "source": [
    "a=\"python version 3\";\n",
    "print(a);\n"
   ]
  },
  {
   "cell_type": "code",
   "execution_count": 42,
   "id": "6d2499e7",
   "metadata": {},
   "outputs": [
    {
     "name": "stdout",
     "output_type": "stream",
     "text": [
      "area of circle is\n",
      "28.278\n"
     ]
    }
   ],
   "source": [
    "r=3;\n",
    "pi=3.142;\n",
    "a=pi*r*r;\n",
    "print(\"area of circle is\");\n",
    "print(a);\n"
   ]
  },
  {
   "cell_type": "code",
   "execution_count": 40,
   "id": "f893364e",
   "metadata": {},
   "outputs": [
    {
     "name": "stdout",
     "output_type": "stream",
     "text": [
      "ALI is first name\n",
      "Raza is last name\n",
      "ALIRaza\n",
      "ALI\n"
     ]
    }
   ],
   "source": [
    "a=\"ALI\";\n",
    "b=\"Raza\";\n",
    "print(\"ALI is first name\");\n",
    "print(\"Raza is last name\");\n",
    "c=a+b;\n",
    "print(c);\n",
    "b=a;\n",
    "print(b);\n",
    "\n",
    "\n"
   ]
  },
  {
   "cell_type": "code",
   "execution_count": 36,
   "id": "eb4bf548",
   "metadata": {},
   "outputs": [
    {
     "name": "stdout",
     "output_type": "stream",
     "text": [
      "the sum is \n",
      "11\n"
     ]
    }
   ],
   "source": [
    "a=5;\n",
    "b=6;\n",
    "c=a+b;\n",
    "print(\"the sum is \");\n",
    "print(c);\n"
   ]
  },
  {
   "cell_type": "code",
   "execution_count": null,
   "id": "f74a0aff",
   "metadata": {},
   "outputs": [],
   "source": []
  },
  {
   "cell_type": "code",
   "execution_count": null,
   "id": "8b04c6e4",
   "metadata": {},
   "outputs": [],
   "source": []
  }
 ],
 "metadata": {
  "kernelspec": {
   "display_name": "Python 3 (ipykernel)",
   "language": "python",
   "name": "python3"
  },
  "language_info": {
   "codemirror_mode": {
    "name": "ipython",
    "version": 3
   },
   "file_extension": ".py",
   "mimetype": "text/x-python",
   "name": "python",
   "nbconvert_exporter": "python",
   "pygments_lexer": "ipython3",
   "version": "3.9.7"
  }
 },
 "nbformat": 4,
 "nbformat_minor": 5
}
